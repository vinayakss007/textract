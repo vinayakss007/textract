{
 "cells": [
  {
   "cell_type": "markdown",
   "metadata": {},
   "source": [
    "vanial textract"
   ]
  },
  {
   "cell_type": "code",
   "execution_count": 1,
   "metadata": {},
   "outputs": [
    {
     "name": "stdout",
     "output_type": "stream",
     "text": [
      "Collecting pytesseract\n",
      "  Downloading pytesseract-0.3.10-py3-none-any.whl.metadata (11 kB)\n",
      "Requirement already satisfied: packaging>=21.3 in /system/conda/miniconda3/envs/cloudspace/lib/python3.10/site-packages (from pytesseract) (24.0)\n",
      "Requirement already satisfied: Pillow>=8.0.0 in /system/conda/miniconda3/envs/cloudspace/lib/python3.10/site-packages (from pytesseract) (10.3.0)\n",
      "Downloading pytesseract-0.3.10-py3-none-any.whl (14 kB)\n",
      "Installing collected packages: pytesseract\n",
      "Successfully installed pytesseract-0.3.10\n"
     ]
    }
   ],
   "source": [
    "! pip install pytesseract"
   ]
  },
  {
   "cell_type": "code",
   "execution_count": 4,
   "metadata": {},
   "outputs": [
    {
     "name": "stdout",
     "output_type": "stream",
     "text": [
      "Collecting opencv-python\n",
      "  Downloading opencv_python-4.10.0.82-cp37-abi3-manylinux_2_17_x86_64.manylinux2014_x86_64.whl.metadata (20 kB)\n",
      "Requirement already satisfied: numpy>=1.21.2 in /system/conda/miniconda3/envs/cloudspace/lib/python3.10/site-packages (from opencv-python) (1.26.2)\n",
      "Downloading opencv_python-4.10.0.82-cp37-abi3-manylinux_2_17_x86_64.manylinux2014_x86_64.whl (62.5 MB)\n",
      "\u001b[2K   \u001b[90m━━━━━━━━━━━━━━━━━━━━━━━━━━━━━━━━━━━━━━━━\u001b[0m \u001b[32m62.5/62.5 MB\u001b[0m \u001b[31m28.0 MB/s\u001b[0m eta \u001b[36m0:00:00\u001b[0m00:01\u001b[0m00:01\u001b[0mm\n",
      "\u001b[?25hInstalling collected packages: opencv-python\n",
      "Successfully installed opencv-python-4.10.0.82\n"
     ]
    }
   ],
   "source": [
    "!pip install  opencv-python"
   ]
  },
  {
   "cell_type": "code",
   "execution_count": 5,
   "metadata": {},
   "outputs": [],
   "source": [
    "import cv2\n",
    "import pytesseract"
   ]
  },
  {
   "cell_type": "code",
   "execution_count": null,
   "metadata": {},
   "outputs": [],
   "source": []
  },
  {
   "cell_type": "code",
   "execution_count": 7,
   "metadata": {},
   "outputs": [],
   "source": [
    "img = cv2.imread(\"/teamspace/studios/this_studio/textract/data/train/Amazon--1-_jpg.rf.dad58854ca48c18071139e87b63c816e.jpg\")"
   ]
  },
  {
   "cell_type": "code",
   "execution_count": 9,
   "metadata": {},
   "outputs": [
    {
     "name": "stdout",
     "output_type": "stream",
     "text": [
      "Page 1 of t,t\n",
      "Invoice for Db34FA16N Apr 22, 2016\n",
      "\n",
      "Retail /TaxInvoice/Cash Memorandum\n",
      "Sold By\n",
      "\n",
      "Green Mobiles\n",
      "\n",
      "No. 369, 13th Cross, 30th Main,\n",
      "\n",
      "Banashankan 2na stage\n",
      "\n",
      "Songalre- 960070 DOSSFAAEN /a of 1 o// tdnecodselgibe\n",
      "\n",
      " \n",
      "\n",
      " \n",
      "\n",
      " \n",
      "\n",
      " \n",
      "\n",
      " \n",
      "\n",
      " \n",
      "\n",
      " \n",
      "\n",
      "VAT/TIN Number: 29130670647 Invoice Number: KA-QSAM-137308031-352\n",
      "CST Number: 29130670547\n",
      "Billing Address ‘Shipping Address\n",
      "emani venkata raghavendra femani venkata raghavencra\n",
      "Tor, sector t Sot-, sector t\n",
      "Ukkunagoram , vizag stee! plant ‘kkunagaram , vizag stee! plant\n",
      "VISAKHAPATIIAM, AP~ 530032 VISAKHAPATNAM, AP ~ 530032\n",
      "Nature of Transaction: Sele\n",
      "Order 1 403-1854494-1688325 This is a computer generated invoice\n",
      "GIy DESCRIPTION GROSS DISCOUNT NET AMOUNT TAX TAX TAX AMOUNT\n",
      "AMOUNT (axinelusive) TYPE RATE (Induded in\n",
      "et)\n",
      "1 Agus Zenfone Max ZC5SOKL (Black, Ss. 9,999.00, Rs.9,999.00 CST 5.5% Rs. $21.27\n",
      "seca)\n",
      "XOD0HOK33V\n",
      "Serial Number=353382070605923\n",
      "Shipping Rs.40.00 Rs. -40.00 _Rs.0.00 CST _ 5.5% Rs. 0.00\n",
      "TOTAL TOTAL __FINALNET TAX TAX TAX\n",
      "GROSS DISCOUNT AMOUNT ‘TPE RATE AMOUNT\n",
      "AMOUNT\n",
      "Rs Rs.-40.00 R5.9,999.00  CST@5.5% Rs. 521.27\n",
      "10,039.00\n",
      "1) We hereby certify that my / our registration certfeate under the For Green Mobiles\n",
      "\n",
      "karnataka Value Added Tax Act, 2003 is in force on the date on which the\n",
      "\n",
      "sale of the goods speatied In this tax invotee is made by me / us and that\n",
      "the transaction of sale coveres By this tax invoice Nas bean effected by\n",
      "\n",
      "ime / us and fe shall be accounted for in the tumover of sales while fling of\n",
      "\n",
      "adsl atc Fant pyac ne sha boc lor =a oe,\n",
      "seid SIE\n",
      "\n",
      " \n",
      "\n",
      " \n",
      "\n",
      "Registered Acdress for Groen Mobiles, 369 13th Cross 30th Main, Banashankari 2nd Stage, Bangalore - 560070, Karnataka, IN\n",
      "\n",
      " \n",
      "\n",
      "To return an item, visit htp://wnw.amazon.n/ returns\n",
      "For more information on your orders, Wait Nip\n",
      "frwwamazonin/yourcaceount eae Purchase made on\n",
      "\n",
      "Db34FAf6n /-1 of 1 -// std-in-cod-clighble/ 0422-16:48/ 0426-08:30\n",
      "\n",
      " \n",
      "\n",
      "amazonin\n",
      "Se\n",
      "\f\n"
     ]
    }
   ],
   "source": [
    "print(pytesseract.image_to_string(img))"
   ]
  },
  {
   "cell_type": "code",
   "execution_count": 11,
   "metadata": {},
   "outputs": [
    {
     "name": "stdout",
     "output_type": "stream",
     "text": [
      "Requirement already satisfied: requests in /system/conda/miniconda3/envs/cloudspace/lib/python3.10/site-packages (2.32.3)\n",
      "Requirement already satisfied: charset-normalizer<4,>=2 in /system/conda/miniconda3/envs/cloudspace/lib/python3.10/site-packages (from requests) (3.3.2)\n",
      "Requirement already satisfied: idna<4,>=2.5 in /system/conda/miniconda3/envs/cloudspace/lib/python3.10/site-packages (from requests) (3.7)\n",
      "Requirement already satisfied: urllib3<3,>=1.21.1 in /system/conda/miniconda3/envs/cloudspace/lib/python3.10/site-packages (from requests) (2.2.1)\n",
      "Requirement already satisfied: certifi>=2017.4.17 in /system/conda/miniconda3/envs/cloudspace/lib/python3.10/site-packages (from requests) (2024.6.2)\n"
     ]
    }
   ],
   "source": [
    "! pip install requests"
   ]
  },
  {
   "cell_type": "code",
   "execution_count": 1,
   "metadata": {},
   "outputs": [
    {
     "name": "stdout",
     "output_type": "stream",
     "text": [
      "[[[255 255 255]\n",
      "  [255 255 255]\n",
      "  [255 255 255]\n",
      "  ...\n",
      "  [255 255 255]\n",
      "  [255 255 255]\n",
      "  [255 255 255]]\n",
      "\n",
      " [[255 255 255]\n",
      "  [255 255 255]\n",
      "  [255 255 255]\n",
      "  ...\n",
      "  [255 255 255]\n",
      "  [255 255 255]\n",
      "  [255 255 255]]\n",
      "\n",
      " [[255 255 255]\n",
      "  [255 255 255]\n",
      "  [255 255 255]\n",
      "  ...\n",
      "  [255 255 255]\n",
      "  [255 255 255]\n",
      "  [255 255 255]]\n",
      "\n",
      " ...\n",
      "\n",
      " [[255 255 255]\n",
      "  [255 255 255]\n",
      "  [255 255 255]\n",
      "  ...\n",
      "  [255 255 255]\n",
      "  [255 255 255]\n",
      "  [255 255 255]]\n",
      "\n",
      " [[255 255 255]\n",
      "  [255 255 255]\n",
      "  [255 255 255]\n",
      "  ...\n",
      "  [255 255 255]\n",
      "  [255 255 255]\n",
      "  [255 255 255]]\n",
      "\n",
      " [[255 255 255]\n",
      "  [255 255 255]\n",
      "  [255 255 255]\n",
      "  ...\n",
      "  [255 255 255]\n",
      "  [255 255 255]\n",
      "  [255 255 255]]]\n"
     ]
    }
   ],
   "source": [
    "import cv2 as cv\n",
    "img = cv.imread(\"/teamspace/studios/this_studio/textract/data/train/Amazon--1-_jpg.rf.dad58854ca48c18071139e87b63c816e.jpg\")\n",
    "\n",
    "print(img)"
   ]
  },
  {
   "cell_type": "code",
   "execution_count": null,
   "metadata": {},
   "outputs": [],
   "source": []
  }
 ],
 "metadata": {
  "language_info": {
   "name": "python"
  }
 },
 "nbformat": 4,
 "nbformat_minor": 2
}
